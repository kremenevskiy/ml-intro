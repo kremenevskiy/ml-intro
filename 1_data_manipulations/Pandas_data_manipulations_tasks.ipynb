{
 "cells": [
  {
   "cell_type": "markdown",
   "id": "6d6010da",
   "metadata": {},
   "source": [
    "# How to complete this assignment\n",
    "First, download [this Kaggle dataset](https://www.kaggle.com/hugomathien/soccer) and extract *sqlite* database. You may need to register at https://www.kaggle.com/ beforehand. Then complete 15 graded tasks below, the score is given in brackets. Finally submit the resulting `.ipynb` file to rs-app Auto-test.\n",
    "\n",
    "- Do not delete or rename the variables given before the inscription `#your code here`, they are needed for the correct verification.\n",
    "- Do not change the code in the last Notebook cell, it is required for the server check.\n",
    "- Your Notebook must run completely without errors to be graded! Please check everything before submission by going *Cell -> Run All*"
   ]
  },
  {
   "cell_type": "markdown",
   "id": "0dbd5f9a",
   "metadata": {},
   "source": [
    "## Some important notes\n",
    "- If you need to **calculate the number of \"something\"** that means we expect you to assign an Integer to the given variable\n",
    "- If you need to **make a list of \"something\"** we expect you to assign a Python list with appropriate values to the given variable\n",
    "- If you need to find a **specifiс player, day of the week, team, etc.** we expect you to assign a String with the full name of the entity to the given variable (`player_name`, day of week full name, `team_name`, etc.)"
   ]
  },
  {
   "cell_type": "code",
   "execution_count": 1,
   "id": "f52b1bac",
   "metadata": {},
   "outputs": [],
   "source": [
    "import sqlite3\n",
    "import pandas as pd\n",
    "import numpy as np\n",
    "import os\n",
    "\n",
    "pd.set_option('display.max_column', None)"
   ]
  },
  {
   "cell_type": "code",
   "execution_count": 2,
   "id": "8ebe6afd",
   "metadata": {},
   "outputs": [],
   "source": [
    "# Leave that code unchanged, it is required for the server check!\n",
    "db = sqlite3.connect(os.environ.get(\"DB_PATH\") or 'database.sqlite')"
   ]
  },
  {
   "cell_type": "code",
   "execution_count": 3,
   "id": "9860d0d0",
   "metadata": {},
   "outputs": [],
   "source": [
    "# You may load the data from SQL table directly to the Pandas dataframe as\n",
    "player_data = pd.read_sql(\"SELECT * FROM Player;\", db)"
   ]
  },
  {
   "cell_type": "code",
   "execution_count": 4,
   "id": "7e69a7af",
   "metadata": {},
   "outputs": [
    {
     "data": {
      "text/html": [
       "<div>\n",
       "<style scoped>\n",
       "    .dataframe tbody tr th:only-of-type {\n",
       "        vertical-align: middle;\n",
       "    }\n",
       "\n",
       "    .dataframe tbody tr th {\n",
       "        vertical-align: top;\n",
       "    }\n",
       "\n",
       "    .dataframe thead th {\n",
       "        text-align: right;\n",
       "    }\n",
       "</style>\n",
       "<table border=\"1\" class=\"dataframe\">\n",
       "  <thead>\n",
       "    <tr style=\"text-align: right;\">\n",
       "      <th></th>\n",
       "      <th>id</th>\n",
       "      <th>player_api_id</th>\n",
       "      <th>player_name</th>\n",
       "      <th>player_fifa_api_id</th>\n",
       "      <th>birthday</th>\n",
       "      <th>height</th>\n",
       "      <th>weight</th>\n",
       "    </tr>\n",
       "  </thead>\n",
       "  <tbody>\n",
       "    <tr>\n",
       "      <th>0</th>\n",
       "      <td>1</td>\n",
       "      <td>505942</td>\n",
       "      <td>Aaron Appindangoye</td>\n",
       "      <td>218353</td>\n",
       "      <td>1992-02-29 00:00:00</td>\n",
       "      <td>182.88</td>\n",
       "      <td>187</td>\n",
       "    </tr>\n",
       "    <tr>\n",
       "      <th>1</th>\n",
       "      <td>2</td>\n",
       "      <td>155782</td>\n",
       "      <td>Aaron Cresswell</td>\n",
       "      <td>189615</td>\n",
       "      <td>1989-12-15 00:00:00</td>\n",
       "      <td>170.18</td>\n",
       "      <td>146</td>\n",
       "    </tr>\n",
       "    <tr>\n",
       "      <th>2</th>\n",
       "      <td>3</td>\n",
       "      <td>162549</td>\n",
       "      <td>Aaron Doran</td>\n",
       "      <td>186170</td>\n",
       "      <td>1991-05-13 00:00:00</td>\n",
       "      <td>170.18</td>\n",
       "      <td>163</td>\n",
       "    </tr>\n",
       "    <tr>\n",
       "      <th>3</th>\n",
       "      <td>4</td>\n",
       "      <td>30572</td>\n",
       "      <td>Aaron Galindo</td>\n",
       "      <td>140161</td>\n",
       "      <td>1982-05-08 00:00:00</td>\n",
       "      <td>182.88</td>\n",
       "      <td>198</td>\n",
       "    </tr>\n",
       "    <tr>\n",
       "      <th>4</th>\n",
       "      <td>5</td>\n",
       "      <td>23780</td>\n",
       "      <td>Aaron Hughes</td>\n",
       "      <td>17725</td>\n",
       "      <td>1979-11-08 00:00:00</td>\n",
       "      <td>182.88</td>\n",
       "      <td>154</td>\n",
       "    </tr>\n",
       "  </tbody>\n",
       "</table>\n",
       "</div>"
      ],
      "text/plain": [
       "   id  player_api_id         player_name  player_fifa_api_id  \\\n",
       "0   1         505942  Aaron Appindangoye              218353   \n",
       "1   2         155782     Aaron Cresswell              189615   \n",
       "2   3         162549         Aaron Doran              186170   \n",
       "3   4          30572       Aaron Galindo              140161   \n",
       "4   5          23780        Aaron Hughes               17725   \n",
       "\n",
       "              birthday  height  weight  \n",
       "0  1992-02-29 00:00:00  182.88     187  \n",
       "1  1989-12-15 00:00:00  170.18     146  \n",
       "2  1991-05-13 00:00:00  170.18     163  \n",
       "3  1982-05-08 00:00:00  182.88     198  \n",
       "4  1979-11-08 00:00:00  182.88     154  "
      ]
     },
     "execution_count": 4,
     "metadata": {},
     "output_type": "execute_result"
    }
   ],
   "source": [
    "player_data.head()"
   ]
  },
  {
   "cell_type": "markdown",
   "id": "f8b23f3a",
   "metadata": {},
   "source": [
    "**Task 1 (0.25 point).** Calculate the number of players with a height between 180 and 190 inclusive"
   ]
  },
  {
   "cell_type": "code",
   "execution_count": 5,
   "id": "7cd6f780",
   "metadata": {},
   "outputs": [],
   "source": [
    "players_180_190 = player_data[(player_data['height'] >= 180) & (player_data['height'] <= 190)].shape[0]"
   ]
  },
  {
   "cell_type": "code",
   "execution_count": 6,
   "id": "9d058065",
   "metadata": {},
   "outputs": [],
   "source": [
    "assert(isinstance(players_180_190, int))"
   ]
  },
  {
   "cell_type": "markdown",
   "id": "5a39f3bc",
   "metadata": {},
   "source": [
    "**Task 2 (0.25 point).** Calculate the number of players born in 1980. <br>\n",
    "**Hint:** you may want to cast your 'birthday' column to DateTime type by [pandas.to_datetime](https://pandas.pydata.org/docs/reference/api/pandas.to_datetime.html)"
   ]
  },
  {
   "cell_type": "code",
   "execution_count": 7,
   "id": "e417b24f",
   "metadata": {},
   "outputs": [
    {
     "data": {
      "text/html": [
       "<div>\n",
       "<style scoped>\n",
       "    .dataframe tbody tr th:only-of-type {\n",
       "        vertical-align: middle;\n",
       "    }\n",
       "\n",
       "    .dataframe tbody tr th {\n",
       "        vertical-align: top;\n",
       "    }\n",
       "\n",
       "    .dataframe thead th {\n",
       "        text-align: right;\n",
       "    }\n",
       "</style>\n",
       "<table border=\"1\" class=\"dataframe\">\n",
       "  <thead>\n",
       "    <tr style=\"text-align: right;\">\n",
       "      <th></th>\n",
       "      <th>id</th>\n",
       "      <th>player_api_id</th>\n",
       "      <th>player_name</th>\n",
       "      <th>player_fifa_api_id</th>\n",
       "      <th>birthday</th>\n",
       "      <th>height</th>\n",
       "      <th>weight</th>\n",
       "    </tr>\n",
       "  </thead>\n",
       "  <tbody>\n",
       "    <tr>\n",
       "      <th>0</th>\n",
       "      <td>1</td>\n",
       "      <td>505942</td>\n",
       "      <td>Aaron Appindangoye</td>\n",
       "      <td>218353</td>\n",
       "      <td>1992-02-29</td>\n",
       "      <td>182.88</td>\n",
       "      <td>187</td>\n",
       "    </tr>\n",
       "    <tr>\n",
       "      <th>1</th>\n",
       "      <td>2</td>\n",
       "      <td>155782</td>\n",
       "      <td>Aaron Cresswell</td>\n",
       "      <td>189615</td>\n",
       "      <td>1989-12-15</td>\n",
       "      <td>170.18</td>\n",
       "      <td>146</td>\n",
       "    </tr>\n",
       "    <tr>\n",
       "      <th>2</th>\n",
       "      <td>3</td>\n",
       "      <td>162549</td>\n",
       "      <td>Aaron Doran</td>\n",
       "      <td>186170</td>\n",
       "      <td>1991-05-13</td>\n",
       "      <td>170.18</td>\n",
       "      <td>163</td>\n",
       "    </tr>\n",
       "    <tr>\n",
       "      <th>3</th>\n",
       "      <td>4</td>\n",
       "      <td>30572</td>\n",
       "      <td>Aaron Galindo</td>\n",
       "      <td>140161</td>\n",
       "      <td>1982-05-08</td>\n",
       "      <td>182.88</td>\n",
       "      <td>198</td>\n",
       "    </tr>\n",
       "    <tr>\n",
       "      <th>4</th>\n",
       "      <td>5</td>\n",
       "      <td>23780</td>\n",
       "      <td>Aaron Hughes</td>\n",
       "      <td>17725</td>\n",
       "      <td>1979-11-08</td>\n",
       "      <td>182.88</td>\n",
       "      <td>154</td>\n",
       "    </tr>\n",
       "  </tbody>\n",
       "</table>\n",
       "</div>"
      ],
      "text/plain": [
       "   id  player_api_id         player_name  player_fifa_api_id   birthday  \\\n",
       "0   1         505942  Aaron Appindangoye              218353 1992-02-29   \n",
       "1   2         155782     Aaron Cresswell              189615 1989-12-15   \n",
       "2   3         162549         Aaron Doran              186170 1991-05-13   \n",
       "3   4          30572       Aaron Galindo              140161 1982-05-08   \n",
       "4   5          23780        Aaron Hughes               17725 1979-11-08   \n",
       "\n",
       "   height  weight  \n",
       "0  182.88     187  \n",
       "1  170.18     146  \n",
       "2  170.18     163  \n",
       "3  182.88     198  \n",
       "4  182.88     154  "
      ]
     },
     "execution_count": 7,
     "metadata": {},
     "output_type": "execute_result"
    }
   ],
   "source": [
    "player_data['birthday'] = pd.to_datetime(player_data['birthday'])\n",
    "player_data.head()"
   ]
  },
  {
   "cell_type": "code",
   "execution_count": 8,
   "id": "ff21f7a2",
   "metadata": {},
   "outputs": [],
   "source": [
    "players_1980 = int(player_data['birthday'].apply(lambda x: x.year == 1980).sum())"
   ]
  },
  {
   "cell_type": "code",
   "execution_count": 9,
   "id": "e53cc066",
   "metadata": {},
   "outputs": [],
   "source": [
    "assert(isinstance(players_1980, int))"
   ]
  },
  {
   "cell_type": "markdown",
   "id": "70d1dea0",
   "metadata": {},
   "source": [
    "**Task 3 (0.25 point).** Make a list of the top 10 players with the highest weight sorted in descending order. If there are several players with the same weight put them in the lexicographic order by name."
   ]
  },
  {
   "cell_type": "code",
   "execution_count": 10,
   "id": "b0dbdaf5",
   "metadata": {},
   "outputs": [],
   "source": [
    "highest_players = player_data.sort_values(by=['weight', 'player_name'], ascending=[False, True])['player_name']\\\n",
    "                    .head(10).values.tolist()"
   ]
  },
  {
   "cell_type": "code",
   "execution_count": 11,
   "id": "40dabe0d",
   "metadata": {},
   "outputs": [],
   "source": [
    "assert(len(highest_players) == 10)\n",
    "assert(isinstance(highest_players, list))\n",
    "for i in range(10):\n",
    "    assert(isinstance(highest_players[i], str))"
   ]
  },
  {
   "cell_type": "markdown",
   "id": "ff30607f",
   "metadata": {},
   "source": [
    "**Task 4 (0.5 point).** Make a list of tuples containing years along with the number of players born in that year from 1980 up to 1990. <br>\n",
    "**Structure example**: [(1980, 123), (1981, 140) ..., (1990, 83)] -> There were born 123 players in 1980, there were born 140 players in 1981 and etc."
   ]
  },
  {
   "cell_type": "code",
   "execution_count": 12,
   "id": "1ebf7f6c",
   "metadata": {},
   "outputs": [],
   "source": [
    "year_b = player_data[player_data['birthday'] \\\n",
    "            .apply(lambda x: (x.year >= 1980) and (x.year <= 1990))] \\\n",
    "            .groupby(player_data['birthday'].map(lambda x: x.year)).count()['id']"
   ]
  },
  {
   "cell_type": "code",
   "execution_count": null,
   "id": "f8b3b2ca",
   "metadata": {},
   "outputs": [],
   "source": []
  },
  {
   "cell_type": "code",
   "execution_count": 13,
   "id": "9b609f1c",
   "metadata": {},
   "outputs": [],
   "source": [
    "years_born_players = list(zip(year_b.index, year_b))"
   ]
  },
  {
   "cell_type": "code",
   "execution_count": 14,
   "id": "64cbf754",
   "metadata": {},
   "outputs": [],
   "source": [
    "assert(len(years_born_players) == 11)\n",
    "assert(isinstance(years_born_players, list))\n",
    "for i in range(10):\n",
    "    assert(isinstance(years_born_players[i], tuple))\n",
    "    assert(isinstance(years_born_players[i][0], int))\n",
    "    assert(isinstance(years_born_players[i][1], int))"
   ]
  },
  {
   "cell_type": "markdown",
   "id": "33cbd931",
   "metadata": {},
   "source": [
    "**Task 5 (0.5 point).** Calculate the mean and the standard deviation of the players' **height** with the name **Adriano**. <br>\n",
    "**Note:** Name is represented by the first part of `player_name`."
   ]
  },
  {
   "cell_type": "code",
   "execution_count": null,
   "id": "d338f8d0",
   "metadata": {},
   "outputs": [],
   "source": []
  },
  {
   "cell_type": "code",
   "execution_count": 15,
   "id": "44be2a87",
   "metadata": {},
   "outputs": [
    {
     "data": {
      "text/plain": [
       "0           Aaron\n",
       "1           Aaron\n",
       "2           Aaron\n",
       "3           Aaron\n",
       "4           Aaron\n",
       "           ...   \n",
       "11055     Zoumana\n",
       "11056       Zsolt\n",
       "11057       Zsolt\n",
       "11058       Zurab\n",
       "11059    Zvjezdan\n",
       "Name: player_name, Length: 11060, dtype: object"
      ]
     },
     "execution_count": 15,
     "metadata": {},
     "output_type": "execute_result"
    }
   ],
   "source": [
    "player_data['player_name'].str.split().str[0]"
   ]
  },
  {
   "cell_type": "code",
   "execution_count": null,
   "id": "19414271",
   "metadata": {},
   "outputs": [],
   "source": []
  },
  {
   "cell_type": "code",
   "execution_count": 16,
   "id": "eaffaa13",
   "metadata": {},
   "outputs": [],
   "source": [
    "adrians = player_data[player_data['player_name'].str.split().str[0] == 'Adriano']['height']"
   ]
  },
  {
   "cell_type": "code",
   "execution_count": 17,
   "id": "614fac31",
   "metadata": {},
   "outputs": [],
   "source": [
    "adriano_mean, adriano_std = adrians.mean(), adrians.std()\n"
   ]
  },
  {
   "cell_type": "code",
   "execution_count": 18,
   "id": "f508c49f",
   "metadata": {},
   "outputs": [],
   "source": [
    "assert(isinstance(adriano_mean, float))\n",
    "assert(isinstance(adriano_std, float))"
   ]
  },
  {
   "cell_type": "markdown",
   "id": "8a361dfd",
   "metadata": {},
   "source": [
    "**Task 6 (0.75 point).** How many players were born on each day of the week? Find the day of the week with the minimum number of players born."
   ]
  },
  {
   "cell_type": "code",
   "execution_count": 19,
   "id": "c140be4f",
   "metadata": {},
   "outputs": [
    {
     "data": {
      "text/plain": [
       "'Sunday'"
      ]
     },
     "execution_count": 19,
     "metadata": {},
     "output_type": "execute_result"
    }
   ],
   "source": [
    "dow_with_min_players_born = player_data.groupby(player_data['birthday']\\\n",
    "                                                .map(lambda x: x.day_name()))['id'].count().idxmin()\n",
    "dow_with_min_players_born"
   ]
  },
  {
   "cell_type": "code",
   "execution_count": 20,
   "id": "fc041623",
   "metadata": {},
   "outputs": [],
   "source": [
    "assert(isinstance(dow_with_min_players_born, str))"
   ]
  },
  {
   "cell_type": "markdown",
   "id": "dc7428be",
   "metadata": {},
   "source": [
    "**Task 7 (0.75 point).** Find a league with the most matches in total. If there are several leagues with the same amount of matches, take the first in the lexical order."
   ]
  },
  {
   "cell_type": "code",
   "execution_count": 21,
   "id": "d1c867a5",
   "metadata": {},
   "outputs": [
    {
     "data": {
      "text/html": [
       "<div>\n",
       "<style scoped>\n",
       "    .dataframe tbody tr th:only-of-type {\n",
       "        vertical-align: middle;\n",
       "    }\n",
       "\n",
       "    .dataframe tbody tr th {\n",
       "        vertical-align: top;\n",
       "    }\n",
       "\n",
       "    .dataframe thead th {\n",
       "        text-align: right;\n",
       "    }\n",
       "</style>\n",
       "<table border=\"1\" class=\"dataframe\">\n",
       "  <thead>\n",
       "    <tr style=\"text-align: right;\">\n",
       "      <th></th>\n",
       "      <th>id</th>\n",
       "      <th>country_id</th>\n",
       "      <th>league_id</th>\n",
       "      <th>season</th>\n",
       "      <th>stage</th>\n",
       "      <th>date</th>\n",
       "      <th>match_api_id</th>\n",
       "      <th>home_team_api_id</th>\n",
       "      <th>away_team_api_id</th>\n",
       "      <th>home_team_goal</th>\n",
       "      <th>away_team_goal</th>\n",
       "      <th>home_player_X1</th>\n",
       "      <th>home_player_X2</th>\n",
       "      <th>home_player_X3</th>\n",
       "      <th>home_player_X4</th>\n",
       "      <th>home_player_X5</th>\n",
       "      <th>home_player_X6</th>\n",
       "      <th>home_player_X7</th>\n",
       "      <th>home_player_X8</th>\n",
       "      <th>home_player_X9</th>\n",
       "      <th>home_player_X10</th>\n",
       "      <th>home_player_X11</th>\n",
       "      <th>away_player_X1</th>\n",
       "      <th>away_player_X2</th>\n",
       "      <th>away_player_X3</th>\n",
       "      <th>away_player_X4</th>\n",
       "      <th>away_player_X5</th>\n",
       "      <th>away_player_X6</th>\n",
       "      <th>away_player_X7</th>\n",
       "      <th>away_player_X8</th>\n",
       "      <th>away_player_X9</th>\n",
       "      <th>away_player_X10</th>\n",
       "      <th>away_player_X11</th>\n",
       "      <th>home_player_Y1</th>\n",
       "      <th>home_player_Y2</th>\n",
       "      <th>home_player_Y3</th>\n",
       "      <th>home_player_Y4</th>\n",
       "      <th>home_player_Y5</th>\n",
       "      <th>home_player_Y6</th>\n",
       "      <th>home_player_Y7</th>\n",
       "      <th>home_player_Y8</th>\n",
       "      <th>home_player_Y9</th>\n",
       "      <th>home_player_Y10</th>\n",
       "      <th>home_player_Y11</th>\n",
       "      <th>away_player_Y1</th>\n",
       "      <th>away_player_Y2</th>\n",
       "      <th>away_player_Y3</th>\n",
       "      <th>away_player_Y4</th>\n",
       "      <th>away_player_Y5</th>\n",
       "      <th>away_player_Y6</th>\n",
       "      <th>away_player_Y7</th>\n",
       "      <th>away_player_Y8</th>\n",
       "      <th>away_player_Y9</th>\n",
       "      <th>away_player_Y10</th>\n",
       "      <th>away_player_Y11</th>\n",
       "      <th>home_player_1</th>\n",
       "      <th>home_player_2</th>\n",
       "      <th>home_player_3</th>\n",
       "      <th>home_player_4</th>\n",
       "      <th>home_player_5</th>\n",
       "      <th>home_player_6</th>\n",
       "      <th>home_player_7</th>\n",
       "      <th>home_player_8</th>\n",
       "      <th>home_player_9</th>\n",
       "      <th>home_player_10</th>\n",
       "      <th>home_player_11</th>\n",
       "      <th>away_player_1</th>\n",
       "      <th>away_player_2</th>\n",
       "      <th>away_player_3</th>\n",
       "      <th>away_player_4</th>\n",
       "      <th>away_player_5</th>\n",
       "      <th>away_player_6</th>\n",
       "      <th>away_player_7</th>\n",
       "      <th>away_player_8</th>\n",
       "      <th>away_player_9</th>\n",
       "      <th>away_player_10</th>\n",
       "      <th>away_player_11</th>\n",
       "      <th>goal</th>\n",
       "      <th>shoton</th>\n",
       "      <th>shotoff</th>\n",
       "      <th>foulcommit</th>\n",
       "      <th>card</th>\n",
       "      <th>cross</th>\n",
       "      <th>corner</th>\n",
       "      <th>possession</th>\n",
       "      <th>B365H</th>\n",
       "      <th>B365D</th>\n",
       "      <th>B365A</th>\n",
       "      <th>BWH</th>\n",
       "      <th>BWD</th>\n",
       "      <th>BWA</th>\n",
       "      <th>IWH</th>\n",
       "      <th>IWD</th>\n",
       "      <th>IWA</th>\n",
       "      <th>LBH</th>\n",
       "      <th>LBD</th>\n",
       "      <th>LBA</th>\n",
       "      <th>PSH</th>\n",
       "      <th>PSD</th>\n",
       "      <th>PSA</th>\n",
       "      <th>WHH</th>\n",
       "      <th>WHD</th>\n",
       "      <th>WHA</th>\n",
       "      <th>SJH</th>\n",
       "      <th>SJD</th>\n",
       "      <th>SJA</th>\n",
       "      <th>VCH</th>\n",
       "      <th>VCD</th>\n",
       "      <th>VCA</th>\n",
       "      <th>GBH</th>\n",
       "      <th>GBD</th>\n",
       "      <th>GBA</th>\n",
       "      <th>BSH</th>\n",
       "      <th>BSD</th>\n",
       "      <th>BSA</th>\n",
       "    </tr>\n",
       "  </thead>\n",
       "  <tbody>\n",
       "    <tr>\n",
       "      <th>0</th>\n",
       "      <td>1</td>\n",
       "      <td>1</td>\n",
       "      <td>1</td>\n",
       "      <td>2008/2009</td>\n",
       "      <td>1</td>\n",
       "      <td>2008-08-17 00:00:00</td>\n",
       "      <td>492473</td>\n",
       "      <td>9987</td>\n",
       "      <td>9993</td>\n",
       "      <td>1</td>\n",
       "      <td>1</td>\n",
       "      <td>NaN</td>\n",
       "      <td>NaN</td>\n",
       "      <td>NaN</td>\n",
       "      <td>NaN</td>\n",
       "      <td>NaN</td>\n",
       "      <td>NaN</td>\n",
       "      <td>NaN</td>\n",
       "      <td>NaN</td>\n",
       "      <td>NaN</td>\n",
       "      <td>NaN</td>\n",
       "      <td>NaN</td>\n",
       "      <td>NaN</td>\n",
       "      <td>NaN</td>\n",
       "      <td>NaN</td>\n",
       "      <td>NaN</td>\n",
       "      <td>NaN</td>\n",
       "      <td>NaN</td>\n",
       "      <td>NaN</td>\n",
       "      <td>NaN</td>\n",
       "      <td>NaN</td>\n",
       "      <td>NaN</td>\n",
       "      <td>NaN</td>\n",
       "      <td>NaN</td>\n",
       "      <td>NaN</td>\n",
       "      <td>NaN</td>\n",
       "      <td>NaN</td>\n",
       "      <td>NaN</td>\n",
       "      <td>NaN</td>\n",
       "      <td>NaN</td>\n",
       "      <td>NaN</td>\n",
       "      <td>NaN</td>\n",
       "      <td>NaN</td>\n",
       "      <td>NaN</td>\n",
       "      <td>NaN</td>\n",
       "      <td>NaN</td>\n",
       "      <td>NaN</td>\n",
       "      <td>NaN</td>\n",
       "      <td>NaN</td>\n",
       "      <td>NaN</td>\n",
       "      <td>NaN</td>\n",
       "      <td>NaN</td>\n",
       "      <td>NaN</td>\n",
       "      <td>NaN</td>\n",
       "      <td>NaN</td>\n",
       "      <td>NaN</td>\n",
       "      <td>NaN</td>\n",
       "      <td>NaN</td>\n",
       "      <td>NaN</td>\n",
       "      <td>NaN</td>\n",
       "      <td>NaN</td>\n",
       "      <td>NaN</td>\n",
       "      <td>NaN</td>\n",
       "      <td>NaN</td>\n",
       "      <td>NaN</td>\n",
       "      <td>NaN</td>\n",
       "      <td>NaN</td>\n",
       "      <td>NaN</td>\n",
       "      <td>NaN</td>\n",
       "      <td>NaN</td>\n",
       "      <td>NaN</td>\n",
       "      <td>NaN</td>\n",
       "      <td>NaN</td>\n",
       "      <td>NaN</td>\n",
       "      <td>NaN</td>\n",
       "      <td>NaN</td>\n",
       "      <td>NaN</td>\n",
       "      <td>None</td>\n",
       "      <td>None</td>\n",
       "      <td>None</td>\n",
       "      <td>None</td>\n",
       "      <td>None</td>\n",
       "      <td>None</td>\n",
       "      <td>None</td>\n",
       "      <td>None</td>\n",
       "      <td>1.73</td>\n",
       "      <td>3.4</td>\n",
       "      <td>5.0</td>\n",
       "      <td>1.75</td>\n",
       "      <td>3.35</td>\n",
       "      <td>4.2</td>\n",
       "      <td>1.85</td>\n",
       "      <td>3.2</td>\n",
       "      <td>3.5</td>\n",
       "      <td>1.8</td>\n",
       "      <td>3.3</td>\n",
       "      <td>3.75</td>\n",
       "      <td>NaN</td>\n",
       "      <td>NaN</td>\n",
       "      <td>NaN</td>\n",
       "      <td>1.7</td>\n",
       "      <td>3.3</td>\n",
       "      <td>4.33</td>\n",
       "      <td>1.9</td>\n",
       "      <td>3.3</td>\n",
       "      <td>4.0</td>\n",
       "      <td>1.65</td>\n",
       "      <td>3.4</td>\n",
       "      <td>4.5</td>\n",
       "      <td>1.78</td>\n",
       "      <td>3.25</td>\n",
       "      <td>4.0</td>\n",
       "      <td>1.73</td>\n",
       "      <td>3.4</td>\n",
       "      <td>4.2</td>\n",
       "    </tr>\n",
       "  </tbody>\n",
       "</table>\n",
       "</div>"
      ],
      "text/plain": [
       "   id  country_id  league_id     season  stage                 date  \\\n",
       "0   1           1          1  2008/2009      1  2008-08-17 00:00:00   \n",
       "\n",
       "   match_api_id  home_team_api_id  away_team_api_id  home_team_goal  \\\n",
       "0        492473              9987              9993               1   \n",
       "\n",
       "   away_team_goal  home_player_X1  home_player_X2  home_player_X3  \\\n",
       "0               1             NaN             NaN             NaN   \n",
       "\n",
       "   home_player_X4  home_player_X5  home_player_X6  home_player_X7  \\\n",
       "0             NaN             NaN             NaN             NaN   \n",
       "\n",
       "   home_player_X8  home_player_X9  home_player_X10  home_player_X11  \\\n",
       "0             NaN             NaN              NaN              NaN   \n",
       "\n",
       "   away_player_X1  away_player_X2  away_player_X3  away_player_X4  \\\n",
       "0             NaN             NaN             NaN             NaN   \n",
       "\n",
       "   away_player_X5  away_player_X6  away_player_X7  away_player_X8  \\\n",
       "0             NaN             NaN             NaN             NaN   \n",
       "\n",
       "   away_player_X9  away_player_X10  away_player_X11  home_player_Y1  \\\n",
       "0             NaN              NaN              NaN             NaN   \n",
       "\n",
       "   home_player_Y2  home_player_Y3  home_player_Y4  home_player_Y5  \\\n",
       "0             NaN             NaN             NaN             NaN   \n",
       "\n",
       "   home_player_Y6  home_player_Y7  home_player_Y8  home_player_Y9  \\\n",
       "0             NaN             NaN             NaN             NaN   \n",
       "\n",
       "   home_player_Y10  home_player_Y11  away_player_Y1  away_player_Y2  \\\n",
       "0              NaN              NaN             NaN             NaN   \n",
       "\n",
       "   away_player_Y3  away_player_Y4  away_player_Y5  away_player_Y6  \\\n",
       "0             NaN             NaN             NaN             NaN   \n",
       "\n",
       "   away_player_Y7  away_player_Y8  away_player_Y9  away_player_Y10  \\\n",
       "0             NaN             NaN             NaN              NaN   \n",
       "\n",
       "   away_player_Y11  home_player_1  home_player_2  home_player_3  \\\n",
       "0              NaN            NaN            NaN            NaN   \n",
       "\n",
       "   home_player_4  home_player_5  home_player_6  home_player_7  home_player_8  \\\n",
       "0            NaN            NaN            NaN            NaN            NaN   \n",
       "\n",
       "   home_player_9  home_player_10  home_player_11  away_player_1  \\\n",
       "0            NaN             NaN             NaN            NaN   \n",
       "\n",
       "   away_player_2  away_player_3  away_player_4  away_player_5  away_player_6  \\\n",
       "0            NaN            NaN            NaN            NaN            NaN   \n",
       "\n",
       "   away_player_7  away_player_8  away_player_9  away_player_10  \\\n",
       "0            NaN            NaN            NaN             NaN   \n",
       "\n",
       "   away_player_11  goal shoton shotoff foulcommit  card cross corner  \\\n",
       "0             NaN  None   None    None       None  None  None   None   \n",
       "\n",
       "  possession  B365H  B365D  B365A   BWH   BWD  BWA   IWH  IWD  IWA  LBH  LBD  \\\n",
       "0       None   1.73    3.4    5.0  1.75  3.35  4.2  1.85  3.2  3.5  1.8  3.3   \n",
       "\n",
       "    LBA  PSH  PSD  PSA  WHH  WHD   WHA  SJH  SJD  SJA   VCH  VCD  VCA   GBH  \\\n",
       "0  3.75  NaN  NaN  NaN  1.7  3.3  4.33  1.9  3.3  4.0  1.65  3.4  4.5  1.78   \n",
       "\n",
       "    GBD  GBA   BSH  BSD  BSA  \n",
       "0  3.25  4.0  1.73  3.4  4.2  "
      ]
     },
     "execution_count": 21,
     "metadata": {},
     "output_type": "execute_result"
    }
   ],
   "source": [
    "matches_data = pd.read_sql(\"SELECT * FROM Match;\", db)\n",
    "matches_data.head(1)"
   ]
  },
  {
   "cell_type": "code",
   "execution_count": 22,
   "id": "1f9a01f7",
   "metadata": {},
   "outputs": [
    {
     "data": {
      "text/html": [
       "<div>\n",
       "<style scoped>\n",
       "    .dataframe tbody tr th:only-of-type {\n",
       "        vertical-align: middle;\n",
       "    }\n",
       "\n",
       "    .dataframe tbody tr th {\n",
       "        vertical-align: top;\n",
       "    }\n",
       "\n",
       "    .dataframe thead th {\n",
       "        text-align: right;\n",
       "    }\n",
       "</style>\n",
       "<table border=\"1\" class=\"dataframe\">\n",
       "  <thead>\n",
       "    <tr style=\"text-align: right;\">\n",
       "      <th></th>\n",
       "      <th>id</th>\n",
       "      <th>country_id</th>\n",
       "      <th>name</th>\n",
       "    </tr>\n",
       "  </thead>\n",
       "  <tbody>\n",
       "    <tr>\n",
       "      <th>0</th>\n",
       "      <td>1</td>\n",
       "      <td>1</td>\n",
       "      <td>Belgium Jupiler League</td>\n",
       "    </tr>\n",
       "  </tbody>\n",
       "</table>\n",
       "</div>"
      ],
      "text/plain": [
       "   id  country_id                    name\n",
       "0   1           1  Belgium Jupiler League"
      ]
     },
     "execution_count": 22,
     "metadata": {},
     "output_type": "execute_result"
    }
   ],
   "source": [
    "league_data = pd.read_sql(\"SELECT * FROM League;\", db)\n",
    "league_data.head(1)"
   ]
  },
  {
   "cell_type": "code",
   "execution_count": 23,
   "id": "f60cae6c",
   "metadata": {},
   "outputs": [],
   "source": [
    "leagues_agg = matches_data.merge(league_data, how='outer', left_on='league_id', right_on='id')\\\n",
    "                .groupby('name')\\\n",
    "                .count().sort_values(by='id_x', ascending=False)\n"
   ]
  },
  {
   "cell_type": "code",
   "execution_count": 24,
   "id": "ff3113ac",
   "metadata": {},
   "outputs": [],
   "source": [
    "league_most_matches = leagues_agg[leagues_agg['id_x'] == leagues_agg['id_x'].max()].sort_index().head(1).index[0]"
   ]
  },
  {
   "cell_type": "code",
   "execution_count": 25,
   "id": "390a265b",
   "metadata": {},
   "outputs": [],
   "source": [
    "assert(isinstance(league_most_matches, str))"
   ]
  },
  {
   "cell_type": "markdown",
   "id": "97199b7d",
   "metadata": {},
   "source": [
    "**Task 8 (1.25 point).** Find a player who participated in the largest number of matches during the whole match history. Assign a `player_name` to the given variable"
   ]
  },
  {
   "cell_type": "code",
   "execution_count": 26,
   "id": "c98cfa59",
   "metadata": {},
   "outputs": [
    {
     "data": {
      "text/html": [
       "<div>\n",
       "<style scoped>\n",
       "    .dataframe tbody tr th:only-of-type {\n",
       "        vertical-align: middle;\n",
       "    }\n",
       "\n",
       "    .dataframe tbody tr th {\n",
       "        vertical-align: top;\n",
       "    }\n",
       "\n",
       "    .dataframe thead th {\n",
       "        text-align: right;\n",
       "    }\n",
       "</style>\n",
       "<table border=\"1\" class=\"dataframe\">\n",
       "  <thead>\n",
       "    <tr style=\"text-align: right;\">\n",
       "      <th></th>\n",
       "      <th>id</th>\n",
       "      <th>player_api_id</th>\n",
       "      <th>player_name</th>\n",
       "      <th>player_fifa_api_id</th>\n",
       "      <th>birthday</th>\n",
       "      <th>height</th>\n",
       "      <th>weight</th>\n",
       "    </tr>\n",
       "  </thead>\n",
       "  <tbody>\n",
       "    <tr>\n",
       "      <th>9993</th>\n",
       "      <td>10009</td>\n",
       "      <td>31293</td>\n",
       "      <td>Steve Mandanda</td>\n",
       "      <td>163705</td>\n",
       "      <td>1985-03-28</td>\n",
       "      <td>185.42</td>\n",
       "      <td>181</td>\n",
       "    </tr>\n",
       "  </tbody>\n",
       "</table>\n",
       "</div>"
      ],
      "text/plain": [
       "         id  player_api_id     player_name  player_fifa_api_id   birthday  \\\n",
       "9993  10009          31293  Steve Mandanda              163705 1985-03-28   \n",
       "\n",
       "      height  weight  \n",
       "9993  185.42     181  "
      ]
     },
     "execution_count": 26,
     "metadata": {},
     "output_type": "execute_result"
    }
   ],
   "source": [
    "players_match_ind = ['home_player_%s' % i for i in range(1, 12)] + ['away_player_%s' % i for i in range(1, 12)]\n",
    "match_players = matches_data[players_match_ind]\n",
    "ls = []\n",
    "for match in match_players.values.tolist():\n",
    "    for player in match:\n",
    "        ls.append(player)\n",
    "player_most_matches = pd.Series([x for x in ls if np.isnan(x) == False]).value_counts(ascending=False).idxmax()\n",
    "player_data[player_data['player_api_id'] == player_most_matches]"
   ]
  },
  {
   "cell_type": "code",
   "execution_count": 27,
   "id": "ec31bc69",
   "metadata": {},
   "outputs": [
    {
     "data": {
      "text/plain": [
       "'Steve Mandanda'"
      ]
     },
     "execution_count": 27,
     "metadata": {},
     "output_type": "execute_result"
    }
   ],
   "source": [
    "max_matches_player = player_data[player_data['player_api_id'] == player_most_matches].player_name.values[0]\n",
    "max_matches_player"
   ]
  },
  {
   "cell_type": "code",
   "execution_count": 28,
   "id": "00ec2e89",
   "metadata": {},
   "outputs": [],
   "source": [
    "assert(isinstance(max_matches_player, str))"
   ]
  },
  {
   "cell_type": "markdown",
   "id": "dbc68bfe",
   "metadata": {},
   "source": [
    "**Task 9 (1.5 point).** List top-5 tuples of most correlated **player's characteristics** in the descending order of the absolute [Pearson's coefficient](https://en.wikipedia.org/wiki/Pearson_correlation_coefficient) value.\n",
    "\n",
    "**Note 1:** Players characteristics are all the columns in `Player_Attributes` table except `[id, player_fifa_api_id, player_api_id, date, preferred_foot, attacking_work_rate, defensive_work_rate]`). <br>\n",
    "**Note 2:** Exclude duplicated pairs from the list. E.g. ('gk_handling', 'gk_reflexes') and ('gk_reflexes', 'gk_handling') are duplicates, leave just one of them in the resulting list.\n",
    "\n",
    "**Hint:** You may use [dataframe.corr()](https://pandas.pydata.org/docs/reference/api/pandas.DataFrame.corr.html) for calculating pairwise Pearson correlation."
   ]
  },
  {
   "cell_type": "code",
   "execution_count": 29,
   "id": "53fde069",
   "metadata": {},
   "outputs": [],
   "source": [
    "player_attributes =  pd.read_sql(\"SELECT * FROM Player_Attributes;\", db)"
   ]
  },
  {
   "cell_type": "code",
   "execution_count": 30,
   "id": "cf6b1f72",
   "metadata": {},
   "outputs": [
    {
     "name": "stderr",
     "output_type": "stream",
     "text": [
      "<ipython-input-30-14b25feaa244>:8: DeprecationWarning: `np.bool` is a deprecated alias for the builtin `bool`. To silence this warning, use `bool` by itself. Doing this will not modify any behavior and is safe. If you specifically wanted the numpy scalar type, use `np.bool_` here.\n",
      "Deprecated in NumPy 1.20; for more details and guidance: https://numpy.org/devdocs/release/1.20.0-notes.html#deprecations\n",
      "  sol = (corr_matrix.where(np.triu(np.ones(corr_matrix.shape), k=1).astype(np.bool))\n"
     ]
    }
   ],
   "source": [
    "player_attrs = player_attributes.drop(['id', 'player_fifa_api_id', 'player_api_id', 'date', 'preferred_foot', 'attacking_work_rate', 'defensive_work_rate'], axis=1)\n",
    "# player_attrs.corr().abs().unstack().sort_values(kind=\"quicksort\", ascending=False).index\n",
    "\n",
    "corr_matrix = player_attrs.corr().abs()\n",
    "\n",
    "\n",
    "\n",
    "sol = (corr_matrix.where(np.triu(np.ones(corr_matrix.shape), k=1).astype(np.bool))\n",
    "                  .stack()\n",
    "                  .sort_values(ascending=False)).head(5)\n"
   ]
  },
  {
   "cell_type": "code",
   "execution_count": 31,
   "id": "47c1412e",
   "metadata": {},
   "outputs": [
    {
     "data": {
      "text/plain": [
       "[('gk_positioning', 'gk_reflexes'),\n",
       " ('gk_handling', 'gk_reflexes'),\n",
       " ('gk_handling', 'gk_positioning'),\n",
       " ('standing_tackle', 'sliding_tackle'),\n",
       " ('marking', 'standing_tackle')]"
      ]
     },
     "execution_count": 31,
     "metadata": {},
     "output_type": "execute_result"
    }
   ],
   "source": [
    "top_correlated_features = sol.index.tolist()\n",
    "top_correlated_features"
   ]
  },
  {
   "cell_type": "code",
   "execution_count": 32,
   "id": "67acd6bf",
   "metadata": {},
   "outputs": [],
   "source": [
    "assert(len(top_correlated_features) == 5)\n",
    "assert(isinstance(top_correlated_features, list))\n",
    "for i in range(5):\n",
    "    assert(isinstance(top_correlated_features[i], tuple))\n",
    "    assert(isinstance(top_correlated_features[i][0], str))\n",
    "    assert(isinstance(top_correlated_features[i][1], str))"
   ]
  },
  {
   "cell_type": "markdown",
   "id": "7d3d8fd3",
   "metadata": {},
   "source": [
    "**Task 10 (2 points).** Find top-5 most similar players to **Neymar** whose names are given. The similarity is measured as [Euclidean distance](https://en.wikipedia.org/wiki/Euclidean_distance) between vectors of players' characteristics (described in the task above). Put their names in a vector in ascending order by Euclidean distance and sorted by `player_name` if the distance is the same<br>\n",
    "**Note 1:** There are many records for some players in the `Player_Attributes` table. You need to take the freshest data (characteristics with the most recent `date`). <br>\n",
    "**Note 2:** Use pure values of the characteristics even if you are aware of such preprocessing technics as normalization. <br>\n",
    "**Note 3:** Please avoid using any built-in methods for calculating the Euclidean distance between vectors, think about implementing your own."
   ]
  },
  {
   "cell_type": "code",
   "execution_count": 78,
   "id": "201ffe13",
   "metadata": {},
   "outputs": [
    {
     "data": {
      "text/html": [
       "<div>\n",
       "<style scoped>\n",
       "    .dataframe tbody tr th:only-of-type {\n",
       "        vertical-align: middle;\n",
       "    }\n",
       "\n",
       "    .dataframe tbody tr th {\n",
       "        vertical-align: top;\n",
       "    }\n",
       "\n",
       "    .dataframe thead th {\n",
       "        text-align: right;\n",
       "    }\n",
       "</style>\n",
       "<table border=\"1\" class=\"dataframe\">\n",
       "  <thead>\n",
       "    <tr style=\"text-align: right;\">\n",
       "      <th></th>\n",
       "      <th>id</th>\n",
       "      <th>player_api_id</th>\n",
       "      <th>player_name</th>\n",
       "      <th>player_fifa_api_id</th>\n",
       "      <th>birthday</th>\n",
       "      <th>height</th>\n",
       "      <th>weight</th>\n",
       "    </tr>\n",
       "  </thead>\n",
       "  <tbody>\n",
       "    <tr>\n",
       "      <th>7855</th>\n",
       "      <td>7867</td>\n",
       "      <td>19533</td>\n",
       "      <td>Neymar</td>\n",
       "      <td>190871</td>\n",
       "      <td>1992-02-05</td>\n",
       "      <td>175.26</td>\n",
       "      <td>150</td>\n",
       "    </tr>\n",
       "  </tbody>\n",
       "</table>\n",
       "</div>"
      ],
      "text/plain": [
       "        id  player_api_id player_name  player_fifa_api_id   birthday  height  \\\n",
       "7855  7867          19533      Neymar              190871 1992-02-05  175.26   \n",
       "\n",
       "      weight  \n",
       "7855     150  "
      ]
     },
     "execution_count": 78,
     "metadata": {},
     "output_type": "execute_result"
    }
   ],
   "source": [
    "neymar_fifa_id = player_data[player_data.player_name == 'Neymar']\n",
    "neymar_fifa_id"
   ]
  },
  {
   "cell_type": "code",
   "execution_count": 79,
   "id": "ec462492",
   "metadata": {},
   "outputs": [
    {
     "data": {
      "text/plain": [
       "190871.0"
      ]
     },
     "execution_count": 79,
     "metadata": {},
     "output_type": "execute_result"
    }
   ],
   "source": [
    "players_unique = player_attributes.sort_values('date').drop_duplicates('player_fifa_api_id', keep='last')\n",
    "players_skills = players_unique.drop(['id', 'player_api_id', 'date', 'preferred_foot', 'attacking_work_rate', 'defensive_work_rate'], axis=1)\n",
    "\n",
    "neymar_skills = players_skills[players_skills.player_fifa_api_id==190871]\n",
    "neymar_skills = neymar_skills.iloc[0, :]\n",
    "neymar_skills[0]"
   ]
  },
  {
   "cell_type": "code",
   "execution_count": 80,
   "id": "c08d906c",
   "metadata": {},
   "outputs": [],
   "source": [
    "players_skills = players_skills.fillna(0)"
   ]
  },
  {
   "cell_type": "code",
   "execution_count": 81,
   "id": "c5c36501",
   "metadata": {},
   "outputs": [
    {
     "data": {
      "text/html": [
       "<div>\n",
       "<style scoped>\n",
       "    .dataframe tbody tr th:only-of-type {\n",
       "        vertical-align: middle;\n",
       "    }\n",
       "\n",
       "    .dataframe tbody tr th {\n",
       "        vertical-align: top;\n",
       "    }\n",
       "\n",
       "    .dataframe thead th {\n",
       "        text-align: right;\n",
       "    }\n",
       "</style>\n",
       "<table border=\"1\" class=\"dataframe\">\n",
       "  <thead>\n",
       "    <tr style=\"text-align: right;\">\n",
       "      <th></th>\n",
       "      <th>player_fifa_api_id</th>\n",
       "      <th>overall_rating</th>\n",
       "      <th>potential</th>\n",
       "      <th>crossing</th>\n",
       "      <th>finishing</th>\n",
       "      <th>heading_accuracy</th>\n",
       "      <th>short_passing</th>\n",
       "      <th>volleys</th>\n",
       "      <th>dribbling</th>\n",
       "      <th>curve</th>\n",
       "      <th>free_kick_accuracy</th>\n",
       "      <th>long_passing</th>\n",
       "      <th>ball_control</th>\n",
       "      <th>acceleration</th>\n",
       "      <th>sprint_speed</th>\n",
       "      <th>agility</th>\n",
       "      <th>reactions</th>\n",
       "      <th>balance</th>\n",
       "      <th>shot_power</th>\n",
       "      <th>jumping</th>\n",
       "      <th>stamina</th>\n",
       "      <th>strength</th>\n",
       "      <th>long_shots</th>\n",
       "      <th>aggression</th>\n",
       "      <th>interceptions</th>\n",
       "      <th>positioning</th>\n",
       "      <th>vision</th>\n",
       "      <th>penalties</th>\n",
       "      <th>marking</th>\n",
       "      <th>standing_tackle</th>\n",
       "      <th>sliding_tackle</th>\n",
       "      <th>gk_diving</th>\n",
       "      <th>gk_handling</th>\n",
       "      <th>gk_kicking</th>\n",
       "      <th>gk_positioning</th>\n",
       "      <th>gk_reflexes</th>\n",
       "    </tr>\n",
       "  </thead>\n",
       "  <tbody>\n",
       "    <tr>\n",
       "      <th>144773</th>\n",
       "      <td>174009</td>\n",
       "      <td>56.0</td>\n",
       "      <td>70.0</td>\n",
       "      <td>34.0</td>\n",
       "      <td>56.0</td>\n",
       "      <td>55.0</td>\n",
       "      <td>42.0</td>\n",
       "      <td>0.0</td>\n",
       "      <td>45.0</td>\n",
       "      <td>0.0</td>\n",
       "      <td>32.0</td>\n",
       "      <td>40.0</td>\n",
       "      <td>53.0</td>\n",
       "      <td>53.0</td>\n",
       "      <td>67.0</td>\n",
       "      <td>0.0</td>\n",
       "      <td>43.0</td>\n",
       "      <td>0.0</td>\n",
       "      <td>56.0</td>\n",
       "      <td>0.0</td>\n",
       "      <td>52.0</td>\n",
       "      <td>56.0</td>\n",
       "      <td>47.0</td>\n",
       "      <td>55.0</td>\n",
       "      <td>52.0</td>\n",
       "      <td>36.0</td>\n",
       "      <td>0.0</td>\n",
       "      <td>56.0</td>\n",
       "      <td>23.0</td>\n",
       "      <td>23.0</td>\n",
       "      <td>0.0</td>\n",
       "      <td>18.0</td>\n",
       "      <td>23.0</td>\n",
       "      <td>40.0</td>\n",
       "      <td>23.0</td>\n",
       "      <td>23.0</td>\n",
       "    </tr>\n",
       "    <tr>\n",
       "      <th>80570</th>\n",
       "      <td>150550</td>\n",
       "      <td>66.0</td>\n",
       "      <td>74.0</td>\n",
       "      <td>25.0</td>\n",
       "      <td>25.0</td>\n",
       "      <td>25.0</td>\n",
       "      <td>23.0</td>\n",
       "      <td>0.0</td>\n",
       "      <td>25.0</td>\n",
       "      <td>0.0</td>\n",
       "      <td>9.0</td>\n",
       "      <td>65.0</td>\n",
       "      <td>21.0</td>\n",
       "      <td>64.0</td>\n",
       "      <td>26.0</td>\n",
       "      <td>0.0</td>\n",
       "      <td>52.0</td>\n",
       "      <td>0.0</td>\n",
       "      <td>34.0</td>\n",
       "      <td>0.0</td>\n",
       "      <td>39.0</td>\n",
       "      <td>53.0</td>\n",
       "      <td>25.0</td>\n",
       "      <td>54.0</td>\n",
       "      <td>71.0</td>\n",
       "      <td>63.0</td>\n",
       "      <td>0.0</td>\n",
       "      <td>73.0</td>\n",
       "      <td>25.0</td>\n",
       "      <td>25.0</td>\n",
       "      <td>0.0</td>\n",
       "      <td>63.0</td>\n",
       "      <td>67.0</td>\n",
       "      <td>65.0</td>\n",
       "      <td>64.0</td>\n",
       "      <td>73.0</td>\n",
       "    </tr>\n",
       "    <tr>\n",
       "      <th>115891</th>\n",
       "      <td>8038</td>\n",
       "      <td>68.0</td>\n",
       "      <td>76.0</td>\n",
       "      <td>69.0</td>\n",
       "      <td>56.0</td>\n",
       "      <td>37.0</td>\n",
       "      <td>74.0</td>\n",
       "      <td>0.0</td>\n",
       "      <td>71.0</td>\n",
       "      <td>0.0</td>\n",
       "      <td>47.0</td>\n",
       "      <td>73.0</td>\n",
       "      <td>70.0</td>\n",
       "      <td>78.0</td>\n",
       "      <td>68.0</td>\n",
       "      <td>0.0</td>\n",
       "      <td>43.0</td>\n",
       "      <td>0.0</td>\n",
       "      <td>62.0</td>\n",
       "      <td>0.0</td>\n",
       "      <td>74.0</td>\n",
       "      <td>74.0</td>\n",
       "      <td>43.0</td>\n",
       "      <td>68.0</td>\n",
       "      <td>66.0</td>\n",
       "      <td>65.0</td>\n",
       "      <td>0.0</td>\n",
       "      <td>74.0</td>\n",
       "      <td>47.0</td>\n",
       "      <td>44.0</td>\n",
       "      <td>0.0</td>\n",
       "      <td>7.0</td>\n",
       "      <td>22.0</td>\n",
       "      <td>73.0</td>\n",
       "      <td>22.0</td>\n",
       "      <td>22.0</td>\n",
       "    </tr>\n",
       "    <tr>\n",
       "      <th>13937</th>\n",
       "      <td>148853</td>\n",
       "      <td>59.0</td>\n",
       "      <td>64.0</td>\n",
       "      <td>33.0</td>\n",
       "      <td>31.0</td>\n",
       "      <td>62.0</td>\n",
       "      <td>55.0</td>\n",
       "      <td>0.0</td>\n",
       "      <td>54.0</td>\n",
       "      <td>0.0</td>\n",
       "      <td>34.0</td>\n",
       "      <td>47.0</td>\n",
       "      <td>43.0</td>\n",
       "      <td>64.0</td>\n",
       "      <td>64.0</td>\n",
       "      <td>0.0</td>\n",
       "      <td>59.0</td>\n",
       "      <td>0.0</td>\n",
       "      <td>44.0</td>\n",
       "      <td>0.0</td>\n",
       "      <td>64.0</td>\n",
       "      <td>68.0</td>\n",
       "      <td>31.0</td>\n",
       "      <td>54.0</td>\n",
       "      <td>51.0</td>\n",
       "      <td>54.0</td>\n",
       "      <td>0.0</td>\n",
       "      <td>58.0</td>\n",
       "      <td>59.0</td>\n",
       "      <td>62.0</td>\n",
       "      <td>0.0</td>\n",
       "      <td>6.0</td>\n",
       "      <td>24.0</td>\n",
       "      <td>47.0</td>\n",
       "      <td>24.0</td>\n",
       "      <td>24.0</td>\n",
       "    </tr>\n",
       "    <tr>\n",
       "      <th>140697</th>\n",
       "      <td>152782</td>\n",
       "      <td>67.0</td>\n",
       "      <td>69.0</td>\n",
       "      <td>72.0</td>\n",
       "      <td>61.0</td>\n",
       "      <td>63.0</td>\n",
       "      <td>63.0</td>\n",
       "      <td>0.0</td>\n",
       "      <td>66.0</td>\n",
       "      <td>0.0</td>\n",
       "      <td>65.0</td>\n",
       "      <td>59.0</td>\n",
       "      <td>69.0</td>\n",
       "      <td>71.0</td>\n",
       "      <td>69.0</td>\n",
       "      <td>0.0</td>\n",
       "      <td>59.0</td>\n",
       "      <td>0.0</td>\n",
       "      <td>65.0</td>\n",
       "      <td>0.0</td>\n",
       "      <td>66.0</td>\n",
       "      <td>66.0</td>\n",
       "      <td>66.0</td>\n",
       "      <td>61.0</td>\n",
       "      <td>64.0</td>\n",
       "      <td>69.0</td>\n",
       "      <td>0.0</td>\n",
       "      <td>62.0</td>\n",
       "      <td>70.0</td>\n",
       "      <td>67.0</td>\n",
       "      <td>0.0</td>\n",
       "      <td>7.0</td>\n",
       "      <td>25.0</td>\n",
       "      <td>59.0</td>\n",
       "      <td>25.0</td>\n",
       "      <td>25.0</td>\n",
       "    </tr>\n",
       "    <tr>\n",
       "      <th>...</th>\n",
       "      <td>...</td>\n",
       "      <td>...</td>\n",
       "      <td>...</td>\n",
       "      <td>...</td>\n",
       "      <td>...</td>\n",
       "      <td>...</td>\n",
       "      <td>...</td>\n",
       "      <td>...</td>\n",
       "      <td>...</td>\n",
       "      <td>...</td>\n",
       "      <td>...</td>\n",
       "      <td>...</td>\n",
       "      <td>...</td>\n",
       "      <td>...</td>\n",
       "      <td>...</td>\n",
       "      <td>...</td>\n",
       "      <td>...</td>\n",
       "      <td>...</td>\n",
       "      <td>...</td>\n",
       "      <td>...</td>\n",
       "      <td>...</td>\n",
       "      <td>...</td>\n",
       "      <td>...</td>\n",
       "      <td>...</td>\n",
       "      <td>...</td>\n",
       "      <td>...</td>\n",
       "      <td>...</td>\n",
       "      <td>...</td>\n",
       "      <td>...</td>\n",
       "      <td>...</td>\n",
       "      <td>...</td>\n",
       "      <td>...</td>\n",
       "      <td>...</td>\n",
       "      <td>...</td>\n",
       "      <td>...</td>\n",
       "      <td>...</td>\n",
       "    </tr>\n",
       "    <tr>\n",
       "      <th>57229</th>\n",
       "      <td>197948</td>\n",
       "      <td>73.0</td>\n",
       "      <td>77.0</td>\n",
       "      <td>51.0</td>\n",
       "      <td>42.0</td>\n",
       "      <td>75.0</td>\n",
       "      <td>68.0</td>\n",
       "      <td>42.0</td>\n",
       "      <td>47.0</td>\n",
       "      <td>47.0</td>\n",
       "      <td>41.0</td>\n",
       "      <td>67.0</td>\n",
       "      <td>62.0</td>\n",
       "      <td>49.0</td>\n",
       "      <td>55.0</td>\n",
       "      <td>52.0</td>\n",
       "      <td>67.0</td>\n",
       "      <td>47.0</td>\n",
       "      <td>77.0</td>\n",
       "      <td>55.0</td>\n",
       "      <td>74.0</td>\n",
       "      <td>92.0</td>\n",
       "      <td>66.0</td>\n",
       "      <td>77.0</td>\n",
       "      <td>72.0</td>\n",
       "      <td>46.0</td>\n",
       "      <td>32.0</td>\n",
       "      <td>43.0</td>\n",
       "      <td>74.0</td>\n",
       "      <td>75.0</td>\n",
       "      <td>69.0</td>\n",
       "      <td>11.0</td>\n",
       "      <td>15.0</td>\n",
       "      <td>15.0</td>\n",
       "      <td>12.0</td>\n",
       "      <td>7.0</td>\n",
       "    </tr>\n",
       "    <tr>\n",
       "      <th>1329</th>\n",
       "      <td>231638</td>\n",
       "      <td>72.0</td>\n",
       "      <td>84.0</td>\n",
       "      <td>49.0</td>\n",
       "      <td>78.0</td>\n",
       "      <td>71.0</td>\n",
       "      <td>63.0</td>\n",
       "      <td>56.0</td>\n",
       "      <td>74.0</td>\n",
       "      <td>45.0</td>\n",
       "      <td>43.0</td>\n",
       "      <td>49.0</td>\n",
       "      <td>73.0</td>\n",
       "      <td>82.0</td>\n",
       "      <td>81.0</td>\n",
       "      <td>60.0</td>\n",
       "      <td>71.0</td>\n",
       "      <td>60.0</td>\n",
       "      <td>73.0</td>\n",
       "      <td>61.0</td>\n",
       "      <td>64.0</td>\n",
       "      <td>63.0</td>\n",
       "      <td>70.0</td>\n",
       "      <td>35.0</td>\n",
       "      <td>20.0</td>\n",
       "      <td>69.0</td>\n",
       "      <td>59.0</td>\n",
       "      <td>77.0</td>\n",
       "      <td>20.0</td>\n",
       "      <td>20.0</td>\n",
       "      <td>21.0</td>\n",
       "      <td>6.0</td>\n",
       "      <td>14.0</td>\n",
       "      <td>13.0</td>\n",
       "      <td>8.0</td>\n",
       "      <td>6.0</td>\n",
       "    </tr>\n",
       "    <tr>\n",
       "      <th>153508</th>\n",
       "      <td>172555</td>\n",
       "      <td>68.0</td>\n",
       "      <td>70.0</td>\n",
       "      <td>33.0</td>\n",
       "      <td>70.0</td>\n",
       "      <td>56.0</td>\n",
       "      <td>63.0</td>\n",
       "      <td>60.0</td>\n",
       "      <td>63.0</td>\n",
       "      <td>55.0</td>\n",
       "      <td>27.0</td>\n",
       "      <td>56.0</td>\n",
       "      <td>66.0</td>\n",
       "      <td>90.0</td>\n",
       "      <td>84.0</td>\n",
       "      <td>73.0</td>\n",
       "      <td>60.0</td>\n",
       "      <td>64.0</td>\n",
       "      <td>75.0</td>\n",
       "      <td>67.0</td>\n",
       "      <td>63.0</td>\n",
       "      <td>59.0</td>\n",
       "      <td>69.0</td>\n",
       "      <td>83.0</td>\n",
       "      <td>37.0</td>\n",
       "      <td>75.0</td>\n",
       "      <td>45.0</td>\n",
       "      <td>66.0</td>\n",
       "      <td>23.0</td>\n",
       "      <td>17.0</td>\n",
       "      <td>23.0</td>\n",
       "      <td>13.0</td>\n",
       "      <td>11.0</td>\n",
       "      <td>6.0</td>\n",
       "      <td>9.0</td>\n",
       "      <td>14.0</td>\n",
       "    </tr>\n",
       "    <tr>\n",
       "      <th>19675</th>\n",
       "      <td>166074</td>\n",
       "      <td>72.0</td>\n",
       "      <td>75.0</td>\n",
       "      <td>67.0</td>\n",
       "      <td>67.0</td>\n",
       "      <td>57.0</td>\n",
       "      <td>66.0</td>\n",
       "      <td>69.0</td>\n",
       "      <td>80.0</td>\n",
       "      <td>67.0</td>\n",
       "      <td>73.0</td>\n",
       "      <td>58.0</td>\n",
       "      <td>77.0</td>\n",
       "      <td>78.0</td>\n",
       "      <td>90.0</td>\n",
       "      <td>68.0</td>\n",
       "      <td>73.0</td>\n",
       "      <td>55.0</td>\n",
       "      <td>85.0</td>\n",
       "      <td>65.0</td>\n",
       "      <td>78.0</td>\n",
       "      <td>83.0</td>\n",
       "      <td>70.0</td>\n",
       "      <td>56.0</td>\n",
       "      <td>24.0</td>\n",
       "      <td>67.0</td>\n",
       "      <td>61.0</td>\n",
       "      <td>66.0</td>\n",
       "      <td>19.0</td>\n",
       "      <td>24.0</td>\n",
       "      <td>21.0</td>\n",
       "      <td>15.0</td>\n",
       "      <td>7.0</td>\n",
       "      <td>8.0</td>\n",
       "      <td>7.0</td>\n",
       "      <td>11.0</td>\n",
       "    </tr>\n",
       "    <tr>\n",
       "      <th>95620</th>\n",
       "      <td>208127</td>\n",
       "      <td>64.0</td>\n",
       "      <td>68.0</td>\n",
       "      <td>44.0</td>\n",
       "      <td>63.0</td>\n",
       "      <td>73.0</td>\n",
       "      <td>49.0</td>\n",
       "      <td>52.0</td>\n",
       "      <td>52.0</td>\n",
       "      <td>42.0</td>\n",
       "      <td>31.0</td>\n",
       "      <td>45.0</td>\n",
       "      <td>63.0</td>\n",
       "      <td>71.0</td>\n",
       "      <td>70.0</td>\n",
       "      <td>59.0</td>\n",
       "      <td>57.0</td>\n",
       "      <td>48.0</td>\n",
       "      <td>69.0</td>\n",
       "      <td>48.0</td>\n",
       "      <td>73.0</td>\n",
       "      <td>86.0</td>\n",
       "      <td>53.0</td>\n",
       "      <td>55.0</td>\n",
       "      <td>22.0</td>\n",
       "      <td>66.0</td>\n",
       "      <td>55.0</td>\n",
       "      <td>65.0</td>\n",
       "      <td>22.0</td>\n",
       "      <td>22.0</td>\n",
       "      <td>25.0</td>\n",
       "      <td>12.0</td>\n",
       "      <td>12.0</td>\n",
       "      <td>7.0</td>\n",
       "      <td>11.0</td>\n",
       "      <td>12.0</td>\n",
       "    </tr>\n",
       "  </tbody>\n",
       "</table>\n",
       "<p>11062 rows × 36 columns</p>\n",
       "</div>"
      ],
      "text/plain": [
       "        player_fifa_api_id  overall_rating  potential  crossing  finishing  \\\n",
       "144773              174009            56.0       70.0      34.0       56.0   \n",
       "80570               150550            66.0       74.0      25.0       25.0   \n",
       "115891                8038            68.0       76.0      69.0       56.0   \n",
       "13937               148853            59.0       64.0      33.0       31.0   \n",
       "140697              152782            67.0       69.0      72.0       61.0   \n",
       "...                    ...             ...        ...       ...        ...   \n",
       "57229               197948            73.0       77.0      51.0       42.0   \n",
       "1329                231638            72.0       84.0      49.0       78.0   \n",
       "153508              172555            68.0       70.0      33.0       70.0   \n",
       "19675               166074            72.0       75.0      67.0       67.0   \n",
       "95620               208127            64.0       68.0      44.0       63.0   \n",
       "\n",
       "        heading_accuracy  short_passing  volleys  dribbling  curve  \\\n",
       "144773              55.0           42.0      0.0       45.0    0.0   \n",
       "80570               25.0           23.0      0.0       25.0    0.0   \n",
       "115891              37.0           74.0      0.0       71.0    0.0   \n",
       "13937               62.0           55.0      0.0       54.0    0.0   \n",
       "140697              63.0           63.0      0.0       66.0    0.0   \n",
       "...                  ...            ...      ...        ...    ...   \n",
       "57229               75.0           68.0     42.0       47.0   47.0   \n",
       "1329                71.0           63.0     56.0       74.0   45.0   \n",
       "153508              56.0           63.0     60.0       63.0   55.0   \n",
       "19675               57.0           66.0     69.0       80.0   67.0   \n",
       "95620               73.0           49.0     52.0       52.0   42.0   \n",
       "\n",
       "        free_kick_accuracy  long_passing  ball_control  acceleration  \\\n",
       "144773                32.0          40.0          53.0          53.0   \n",
       "80570                  9.0          65.0          21.0          64.0   \n",
       "115891                47.0          73.0          70.0          78.0   \n",
       "13937                 34.0          47.0          43.0          64.0   \n",
       "140697                65.0          59.0          69.0          71.0   \n",
       "...                    ...           ...           ...           ...   \n",
       "57229                 41.0          67.0          62.0          49.0   \n",
       "1329                  43.0          49.0          73.0          82.0   \n",
       "153508                27.0          56.0          66.0          90.0   \n",
       "19675                 73.0          58.0          77.0          78.0   \n",
       "95620                 31.0          45.0          63.0          71.0   \n",
       "\n",
       "        sprint_speed  agility  reactions  balance  shot_power  jumping  \\\n",
       "144773          67.0      0.0       43.0      0.0        56.0      0.0   \n",
       "80570           26.0      0.0       52.0      0.0        34.0      0.0   \n",
       "115891          68.0      0.0       43.0      0.0        62.0      0.0   \n",
       "13937           64.0      0.0       59.0      0.0        44.0      0.0   \n",
       "140697          69.0      0.0       59.0      0.0        65.0      0.0   \n",
       "...              ...      ...        ...      ...         ...      ...   \n",
       "57229           55.0     52.0       67.0     47.0        77.0     55.0   \n",
       "1329            81.0     60.0       71.0     60.0        73.0     61.0   \n",
       "153508          84.0     73.0       60.0     64.0        75.0     67.0   \n",
       "19675           90.0     68.0       73.0     55.0        85.0     65.0   \n",
       "95620           70.0     59.0       57.0     48.0        69.0     48.0   \n",
       "\n",
       "        stamina  strength  long_shots  aggression  interceptions  positioning  \\\n",
       "144773     52.0      56.0        47.0        55.0           52.0         36.0   \n",
       "80570      39.0      53.0        25.0        54.0           71.0         63.0   \n",
       "115891     74.0      74.0        43.0        68.0           66.0         65.0   \n",
       "13937      64.0      68.0        31.0        54.0           51.0         54.0   \n",
       "140697     66.0      66.0        66.0        61.0           64.0         69.0   \n",
       "...         ...       ...         ...         ...            ...          ...   \n",
       "57229      74.0      92.0        66.0        77.0           72.0         46.0   \n",
       "1329       64.0      63.0        70.0        35.0           20.0         69.0   \n",
       "153508     63.0      59.0        69.0        83.0           37.0         75.0   \n",
       "19675      78.0      83.0        70.0        56.0           24.0         67.0   \n",
       "95620      73.0      86.0        53.0        55.0           22.0         66.0   \n",
       "\n",
       "        vision  penalties  marking  standing_tackle  sliding_tackle  \\\n",
       "144773     0.0       56.0     23.0             23.0             0.0   \n",
       "80570      0.0       73.0     25.0             25.0             0.0   \n",
       "115891     0.0       74.0     47.0             44.0             0.0   \n",
       "13937      0.0       58.0     59.0             62.0             0.0   \n",
       "140697     0.0       62.0     70.0             67.0             0.0   \n",
       "...        ...        ...      ...              ...             ...   \n",
       "57229     32.0       43.0     74.0             75.0            69.0   \n",
       "1329      59.0       77.0     20.0             20.0            21.0   \n",
       "153508    45.0       66.0     23.0             17.0            23.0   \n",
       "19675     61.0       66.0     19.0             24.0            21.0   \n",
       "95620     55.0       65.0     22.0             22.0            25.0   \n",
       "\n",
       "        gk_diving  gk_handling  gk_kicking  gk_positioning  gk_reflexes  \n",
       "144773       18.0         23.0        40.0            23.0         23.0  \n",
       "80570        63.0         67.0        65.0            64.0         73.0  \n",
       "115891        7.0         22.0        73.0            22.0         22.0  \n",
       "13937         6.0         24.0        47.0            24.0         24.0  \n",
       "140697        7.0         25.0        59.0            25.0         25.0  \n",
       "...           ...          ...         ...             ...          ...  \n",
       "57229        11.0         15.0        15.0            12.0          7.0  \n",
       "1329          6.0         14.0        13.0             8.0          6.0  \n",
       "153508       13.0         11.0         6.0             9.0         14.0  \n",
       "19675        15.0          7.0         8.0             7.0         11.0  \n",
       "95620        12.0         12.0         7.0            11.0         12.0  \n",
       "\n",
       "[11062 rows x 36 columns]"
      ]
     },
     "execution_count": 81,
     "metadata": {},
     "output_type": "execute_result"
    }
   ],
   "source": [
    "players_skills"
   ]
  },
  {
   "cell_type": "code",
   "execution_count": 86,
   "id": "b3874c15",
   "metadata": {},
   "outputs": [
    {
     "data": {
      "text/plain": [
       "['Neymar',\n",
       " 'Paulo Dybala',\n",
       " 'Eden Hazard',\n",
       " 'Giovani dos Santos',\n",
       " 'Arjen Robben',\n",
       " 'Lionel Messi']"
      ]
     },
     "execution_count": 86,
     "metadata": {},
     "output_type": "execute_result"
    }
   ],
   "source": [
    "sims = []\n",
    "for player in players_skills.values:\n",
    "    dist = []\n",
    "    for i in range(1, len(player)):\n",
    "        \n",
    "        if np.isnan(player[i]) == False:\n",
    "            \n",
    "            dist.append(neymar_skills[i] - player[i])\n",
    "    dist = np.linalg.norm(dist)\n",
    "    sims.append((player[0], dist))\n",
    "simular = sorted(sims, key=lambda x: x[1])\n",
    "\n",
    "\n",
    "ans = []\n",
    "for i, j in simular:\n",
    "    if player_data[player_data.player_fifa_api_id == i].shape[0] > 0:\n",
    "        ans.append(player_data[player_data.player_fifa_api_id == i].player_name.values[0])\n",
    "    if len(ans) == 6:\n",
    "        break\n",
    "ans"
   ]
  },
  {
   "cell_type": "code",
   "execution_count": 87,
   "id": "4642961f",
   "metadata": {},
   "outputs": [
    {
     "data": {
      "text/html": [
       "<div>\n",
       "<style scoped>\n",
       "    .dataframe tbody tr th:only-of-type {\n",
       "        vertical-align: middle;\n",
       "    }\n",
       "\n",
       "    .dataframe tbody tr th {\n",
       "        vertical-align: top;\n",
       "    }\n",
       "\n",
       "    .dataframe thead th {\n",
       "        text-align: right;\n",
       "    }\n",
       "</style>\n",
       "<table border=\"1\" class=\"dataframe\">\n",
       "  <thead>\n",
       "    <tr style=\"text-align: right;\">\n",
       "      <th></th>\n",
       "      <th>player_fifa_api_id</th>\n",
       "      <th>overall_rating</th>\n",
       "      <th>potential</th>\n",
       "      <th>crossing</th>\n",
       "      <th>finishing</th>\n",
       "      <th>heading_accuracy</th>\n",
       "      <th>short_passing</th>\n",
       "      <th>volleys</th>\n",
       "      <th>dribbling</th>\n",
       "      <th>curve</th>\n",
       "      <th>free_kick_accuracy</th>\n",
       "      <th>long_passing</th>\n",
       "      <th>ball_control</th>\n",
       "      <th>acceleration</th>\n",
       "      <th>sprint_speed</th>\n",
       "      <th>agility</th>\n",
       "      <th>reactions</th>\n",
       "      <th>balance</th>\n",
       "      <th>shot_power</th>\n",
       "      <th>jumping</th>\n",
       "      <th>stamina</th>\n",
       "      <th>strength</th>\n",
       "      <th>long_shots</th>\n",
       "      <th>aggression</th>\n",
       "      <th>interceptions</th>\n",
       "      <th>positioning</th>\n",
       "      <th>vision</th>\n",
       "      <th>penalties</th>\n",
       "      <th>marking</th>\n",
       "      <th>standing_tackle</th>\n",
       "      <th>sliding_tackle</th>\n",
       "      <th>gk_diving</th>\n",
       "      <th>gk_handling</th>\n",
       "      <th>gk_kicking</th>\n",
       "      <th>gk_positioning</th>\n",
       "      <th>gk_reflexes</th>\n",
       "    </tr>\n",
       "  </thead>\n",
       "  <tbody>\n",
       "    <tr>\n",
       "      <th>129797</th>\n",
       "      <td>200529</td>\n",
       "      <td>0.0</td>\n",
       "      <td>0.0</td>\n",
       "      <td>0.0</td>\n",
       "      <td>0.0</td>\n",
       "      <td>0.0</td>\n",
       "      <td>0.0</td>\n",
       "      <td>0.0</td>\n",
       "      <td>0.0</td>\n",
       "      <td>0.0</td>\n",
       "      <td>0.0</td>\n",
       "      <td>0.0</td>\n",
       "      <td>0.0</td>\n",
       "      <td>0.0</td>\n",
       "      <td>0.0</td>\n",
       "      <td>0.0</td>\n",
       "      <td>0.0</td>\n",
       "      <td>0.0</td>\n",
       "      <td>0.0</td>\n",
       "      <td>0.0</td>\n",
       "      <td>0.0</td>\n",
       "      <td>0.0</td>\n",
       "      <td>0.0</td>\n",
       "      <td>0.0</td>\n",
       "      <td>0.0</td>\n",
       "      <td>0.0</td>\n",
       "      <td>0.0</td>\n",
       "      <td>0.0</td>\n",
       "      <td>0.0</td>\n",
       "      <td>0.0</td>\n",
       "      <td>0.0</td>\n",
       "      <td>0.0</td>\n",
       "      <td>0.0</td>\n",
       "      <td>0.0</td>\n",
       "      <td>0.0</td>\n",
       "      <td>0.0</td>\n",
       "    </tr>\n",
       "  </tbody>\n",
       "</table>\n",
       "</div>"
      ],
      "text/plain": [
       "        player_fifa_api_id  overall_rating  potential  crossing  finishing  \\\n",
       "129797              200529             0.0        0.0       0.0        0.0   \n",
       "\n",
       "        heading_accuracy  short_passing  volleys  dribbling  curve  \\\n",
       "129797               0.0            0.0      0.0        0.0    0.0   \n",
       "\n",
       "        free_kick_accuracy  long_passing  ball_control  acceleration  \\\n",
       "129797                 0.0           0.0           0.0           0.0   \n",
       "\n",
       "        sprint_speed  agility  reactions  balance  shot_power  jumping  \\\n",
       "129797           0.0      0.0        0.0      0.0         0.0      0.0   \n",
       "\n",
       "        stamina  strength  long_shots  aggression  interceptions  positioning  \\\n",
       "129797      0.0       0.0         0.0         0.0            0.0          0.0   \n",
       "\n",
       "        vision  penalties  marking  standing_tackle  sliding_tackle  \\\n",
       "129797     0.0        0.0      0.0              0.0             0.0   \n",
       "\n",
       "        gk_diving  gk_handling  gk_kicking  gk_positioning  gk_reflexes  \n",
       "129797        0.0          0.0         0.0             0.0          0.0  "
      ]
     },
     "execution_count": 87,
     "metadata": {},
     "output_type": "execute_result"
    }
   ],
   "source": [
    "players_skills[players_skills['player_fifa_api_id'] == 200529]"
   ]
  },
  {
   "cell_type": "code",
   "execution_count": 88,
   "id": "8adcc7cf",
   "metadata": {},
   "outputs": [
    {
     "data": {
      "text/plain": [
       "['Neymar',\n",
       " 'Paulo Dybala',\n",
       " 'Eden Hazard',\n",
       " 'Giovani dos Santos',\n",
       " 'Arjen Robben',\n",
       " 'Lionel Messi']"
      ]
     },
     "execution_count": 88,
     "metadata": {},
     "output_type": "execute_result"
    }
   ],
   "source": [
    "# ans = ans[::-1]\n",
    "ans"
   ]
  },
  {
   "cell_type": "code",
   "execution_count": 92,
   "id": "fac5a571",
   "metadata": {},
   "outputs": [],
   "source": [
    "neymar_similarities = ans[1:]"
   ]
  },
  {
   "cell_type": "code",
   "execution_count": 90,
   "id": "ddb1876a",
   "metadata": {},
   "outputs": [],
   "source": [
    "assert(len(neymar_similarities) == 5)\n",
    "assert(isinstance(neymar_similarities, list))\n",
    "for i in range(5):\n",
    "    assert(isinstance(neymar_similarities[i], str))"
   ]
  },
  {
   "cell_type": "markdown",
   "id": "a3a7f878",
   "metadata": {},
   "source": [
    "**Task 11 (1 point).** Calculate the number of home matches played by the **Borussia Dortmund** team in **Germany 1. Bundesliga** in season **2008/2009**"
   ]
  },
  {
   "cell_type": "code",
   "execution_count": 41,
   "id": "c0f37ce4",
   "metadata": {},
   "outputs": [],
   "source": [
    "teams_data = pd.read_sql(\"SELECT * FROM Team;\", db)"
   ]
  },
  {
   "cell_type": "code",
   "execution_count": 42,
   "id": "ab5a96da",
   "metadata": {},
   "outputs": [],
   "source": [
    "borussia_team_api = teams_data[teams_data.team_long_name == 'Borussia Dortmund'].team_api_id.values[0]\n",
    "germ_1_league = league_data[league_data.name == 'Germany 1. Bundesliga'].id.values[0]"
   ]
  },
  {
   "cell_type": "code",
   "execution_count": 43,
   "id": "bdf5a267",
   "metadata": {},
   "outputs": [],
   "source": [
    "borussia_bundesliga_2008_2009_matches = matches_data[((matches_data['home_team_api_id'] == borussia_team_api)) & \n",
    "             (matches_data['season'] == '2008/2009') & \\\n",
    "             (matches_data['league_id'] == germ_1_league)].shape[0]"
   ]
  },
  {
   "cell_type": "code",
   "execution_count": 44,
   "id": "488fdd4c",
   "metadata": {},
   "outputs": [],
   "source": [
    "assert(isinstance(borussia_bundesliga_2008_2009_matches, int))"
   ]
  },
  {
   "cell_type": "markdown",
   "id": "69dca9a5",
   "metadata": {},
   "source": [
    "**Task 12 (1 point).** Find a team having the most matches (both home and away!) in the **Germany 1. Bundesliga** in **2008/2009** season. Return number of matches."
   ]
  },
  {
   "cell_type": "code",
   "execution_count": 45,
   "id": "d232f246",
   "metadata": {},
   "outputs": [],
   "source": [
    "from functools import reduce\n",
    "teams_played = matches_data[(matches_data['season'] == '2008/2009') & \\\n",
    "             (matches_data['league_id'] == germ_1_league)][['home_team_api_id', 'away_team_api_id']]\n",
    "matches = pd.Series(reduce(lambda x,y: x+y, teams_played.values.tolist())) \\\n",
    "            .value_counts().sort_values(ascending=False).values[0]"
   ]
  },
  {
   "cell_type": "code",
   "execution_count": 46,
   "id": "9969ba5c",
   "metadata": {},
   "outputs": [],
   "source": [
    "team_most_matches_bundesliga_2008_2009 = int(matches)"
   ]
  },
  {
   "cell_type": "code",
   "execution_count": 47,
   "id": "ef3b8fa2",
   "metadata": {},
   "outputs": [],
   "source": [
    "assert(isinstance(team_most_matches_bundesliga_2008_2009, int))"
   ]
  },
  {
   "cell_type": "markdown",
   "id": "2f3c65aa",
   "metadata": {},
   "source": [
    "**Task 13 (1 point).** Count total number of **Arsenal** matches (both home and away!) in the **2015/2016** season which they have won. <br><br>\n",
    "**Note:** Winning a game means scoring **more** goals than an opponent."
   ]
  },
  {
   "cell_type": "code",
   "execution_count": 48,
   "id": "aace5821",
   "metadata": {},
   "outputs": [],
   "source": [
    "matches_data['date'] = pd.to_datetime(matches_data['date'])"
   ]
  },
  {
   "cell_type": "code",
   "execution_count": 49,
   "id": "52b18451",
   "metadata": {},
   "outputs": [],
   "source": [
    "arsenal_team_api = teams_data[teams_data.team_long_name == 'Arsenal'].team_api_id.values[0]\n",
    "arsenal_won_matches = matches_data[(matches_data['season'] == '2015/2016')]"
   ]
  },
  {
   "cell_type": "code",
   "execution_count": 50,
   "id": "f55a1159",
   "metadata": {},
   "outputs": [],
   "source": [
    "arsenal_won_matches = arsenal_won_matches[((arsenal_won_matches['home_team_api_id'] == arsenal_team_api) & \\\n",
    "                      (arsenal_won_matches['home_team_goal'] > arsenal_won_matches['away_team_goal'])) | \\\n",
    "                     ((arsenal_won_matches['away_team_api_id'] == arsenal_team_api) & \\\n",
    "                      (arsenal_won_matches['home_team_goal'] < arsenal_won_matches['away_team_goal']))]"
   ]
  },
  {
   "cell_type": "code",
   "execution_count": 51,
   "id": "ecc9ea3b",
   "metadata": {},
   "outputs": [
    {
     "data": {
      "text/plain": [
       "(20, 115)"
      ]
     },
     "execution_count": 51,
     "metadata": {},
     "output_type": "execute_result"
    }
   ],
   "source": [
    "arsenal_won_matches.shape"
   ]
  },
  {
   "cell_type": "code",
   "execution_count": 52,
   "id": "52456f34",
   "metadata": {},
   "outputs": [],
   "source": [
    "arsenal_won_matches_2015_2016 = arsenal_won_matches.shape[0]"
   ]
  },
  {
   "cell_type": "code",
   "execution_count": 53,
   "id": "214d9689",
   "metadata": {},
   "outputs": [],
   "source": [
    "assert(isinstance(arsenal_won_matches_2015_2016, int))"
   ]
  },
  {
   "cell_type": "markdown",
   "id": "d70d5b23",
   "metadata": {},
   "source": [
    "**Task 14 (2 points).** Find a team with the highest win rate in the **2015/2016** season. Win rate means won matches / all matches. If there are several teams with the highest win rate return the first by name in lexical order"
   ]
  },
  {
   "cell_type": "code",
   "execution_count": 54,
   "id": "158109ca",
   "metadata": {},
   "outputs": [],
   "source": [
    "matches_2015_2016 = matches_data[matches_data['season'] == '2015/2016']\n",
    "n_matches_2015_2016 = matches_2015_2016.shape[0]\n",
    "teams_api_id = set(matches_2015_2016['home_team_api_id'].values.tolist() + matches_2015_2016['away_team_api_id'].values.tolist())"
   ]
  },
  {
   "cell_type": "code",
   "execution_count": 55,
   "id": "6771924c",
   "metadata": {},
   "outputs": [],
   "source": [
    "def calculate_win_rate(teams):\n",
    "    win_rate = []\n",
    "    for team in teams:\n",
    "        wins_num = matches_2015_2016[((matches_2015_2016['home_team_api_id'] == team) & \\\n",
    "                      (matches_2015_2016['home_team_goal'] > matches_2015_2016['away_team_goal'])) | \\\n",
    "                     ((matches_2015_2016['away_team_api_id'] == team) & \\\n",
    "                      (matches_2015_2016['home_team_goal'] < matches_2015_2016['away_team_goal'])) & \\\n",
    "                     (matches_2015_2016['season'] == '2015/2016')].shape[0]\n",
    "        team_games_played = matches_2015_2016[(matches_2015_2016['home_team_api_id'] == team) | (matches_2015_2016['away_team_api_id'] == team)].shape[0]\n",
    "        win_rate.append((team, wins_num/team_games_played))\n",
    "    win_rate_sorted = sorted(win_rate, key=lambda x: x[1], reverse=True)\n",
    "    return win_rate_sorted"
   ]
  },
  {
   "cell_type": "code",
   "execution_count": 56,
   "id": "ca90c161",
   "metadata": {},
   "outputs": [
    {
     "data": {
      "text/plain": [
       "(9772, 0.8529411764705882)"
      ]
     },
     "execution_count": 56,
     "metadata": {},
     "output_type": "execute_result"
    }
   ],
   "source": [
    "best_team = calculate_win_rate(teams_api_id)[0]\n",
    "best_team"
   ]
  },
  {
   "cell_type": "code",
   "execution_count": 57,
   "id": "9dbb6bc6",
   "metadata": {},
   "outputs": [
    {
     "data": {
      "text/html": [
       "<div>\n",
       "<style scoped>\n",
       "    .dataframe tbody tr th:only-of-type {\n",
       "        vertical-align: middle;\n",
       "    }\n",
       "\n",
       "    .dataframe tbody tr th {\n",
       "        vertical-align: top;\n",
       "    }\n",
       "\n",
       "    .dataframe thead th {\n",
       "        text-align: right;\n",
       "    }\n",
       "</style>\n",
       "<table border=\"1\" class=\"dataframe\">\n",
       "  <thead>\n",
       "    <tr style=\"text-align: right;\">\n",
       "      <th></th>\n",
       "      <th>id</th>\n",
       "      <th>team_api_id</th>\n",
       "      <th>team_fifa_api_id</th>\n",
       "      <th>team_long_name</th>\n",
       "      <th>team_short_name</th>\n",
       "    </tr>\n",
       "  </thead>\n",
       "  <tbody>\n",
       "    <tr>\n",
       "      <th>216</th>\n",
       "      <td>35294</td>\n",
       "      <td>9772</td>\n",
       "      <td>234.0</td>\n",
       "      <td>SL Benfica</td>\n",
       "      <td>BEN</td>\n",
       "    </tr>\n",
       "  </tbody>\n",
       "</table>\n",
       "</div>"
      ],
      "text/plain": [
       "        id  team_api_id  team_fifa_api_id team_long_name team_short_name\n",
       "216  35294         9772             234.0     SL Benfica             BEN"
      ]
     },
     "execution_count": 57,
     "metadata": {},
     "output_type": "execute_result"
    }
   ],
   "source": [
    "best_team_row = teams_data[teams_data['team_api_id'] == best_team[0]]\n",
    "best_team_row"
   ]
  },
  {
   "cell_type": "code",
   "execution_count": 58,
   "id": "b1aa7db0",
   "metadata": {},
   "outputs": [],
   "source": [
    "team_highest_winrate_2015_2016 = best_team_row['team_long_name'].values[0]"
   ]
  },
  {
   "cell_type": "code",
   "execution_count": 59,
   "id": "b4cc8e46",
   "metadata": {},
   "outputs": [],
   "source": [
    "assert(isinstance(team_highest_winrate_2015_2016, str))"
   ]
  },
  {
   "cell_type": "markdown",
   "id": "f7f3b4f5",
   "metadata": {},
   "source": [
    "**Task 15 (2 points).** Determine the team with the maximum days' gap between matches in **England Premier League 2010/2011 season**. Return number of days in that gap. <br>\n",
    "**Note**: a *gap* means the number of days between two consecutive matches of the same team."
   ]
  },
  {
   "cell_type": "code",
   "execution_count": 60,
   "id": "779c8fe4",
   "metadata": {},
   "outputs": [],
   "source": [
    "eng_league_id = league_data[league_data['name'] == 'England Premier League'].id.values[0]\n",
    "eng_2010_2011 = matches_data[(matches_data['league_id']==eng_league_id) & (matches_data['season'] == '2010/2011')]\n",
    "eng_2010_2011 = eng_2010_2011[['date', 'home_team_api_id', 'away_team_api_id']]\n",
    "eng_teams_2010 = set(eng_2010_2011['home_team_api_id'].values.tolist() + eng_2010_2011['home_team_api_id'].values.tolist())"
   ]
  },
  {
   "cell_type": "code",
   "execution_count": 61,
   "id": "ecdade08",
   "metadata": {},
   "outputs": [
    {
     "data": {
      "text/plain": [
       "[8650, 8658]"
      ]
     },
     "execution_count": 61,
     "metadata": {},
     "output_type": "execute_result"
    }
   ],
   "source": [
    "team_big_gap = []\n",
    "for team in eng_teams_2010:\n",
    "    team_games = eng_2010_2011[(eng_2010_2011['home_team_api_id'] == team) | (eng_2010_2011['away_team_api_id'] == team)]\n",
    "    dates = team_games.sort_values(by='date')['date']\n",
    "    max_gap = dates.diff()[1:].dt.days.values.max()\n",
    "    team_big_gap.append((team, max_gap))\n",
    "\n",
    "team_big_gap = sorted(team_big_gap, key=lambda x: x[1], reverse=True)\n",
    "best_teams = []\n",
    "max_gap = team_big_gap[0][1]\n",
    "for i in range(len(team_big_gap)):\n",
    "    if team_big_gap[i][1] != max_gap:\n",
    "        break\n",
    "    best_teams.append(team_big_gap[i][0])\n",
    "\n",
    "best_teams"
   ]
  },
  {
   "cell_type": "code",
   "execution_count": 62,
   "id": "9250881b",
   "metadata": {},
   "outputs": [
    {
     "data": {
      "text/html": [
       "<div>\n",
       "<style scoped>\n",
       "    .dataframe tbody tr th:only-of-type {\n",
       "        vertical-align: middle;\n",
       "    }\n",
       "\n",
       "    .dataframe tbody tr th {\n",
       "        vertical-align: top;\n",
       "    }\n",
       "\n",
       "    .dataframe thead th {\n",
       "        text-align: right;\n",
       "    }\n",
       "</style>\n",
       "<table border=\"1\" class=\"dataframe\">\n",
       "  <thead>\n",
       "    <tr style=\"text-align: right;\">\n",
       "      <th></th>\n",
       "      <th>id</th>\n",
       "      <th>team_api_id</th>\n",
       "      <th>team_fifa_api_id</th>\n",
       "      <th>team_long_name</th>\n",
       "      <th>team_short_name</th>\n",
       "    </tr>\n",
       "  </thead>\n",
       "  <tbody>\n",
       "    <tr>\n",
       "      <th>45</th>\n",
       "      <td>4218</td>\n",
       "      <td>8658</td>\n",
       "      <td>88.0</td>\n",
       "      <td>Birmingham City</td>\n",
       "      <td>BIR</td>\n",
       "    </tr>\n",
       "    <tr>\n",
       "      <th>30</th>\n",
       "      <td>3462</td>\n",
       "      <td>8650</td>\n",
       "      <td>9.0</td>\n",
       "      <td>Liverpool</td>\n",
       "      <td>LIV</td>\n",
       "    </tr>\n",
       "  </tbody>\n",
       "</table>\n",
       "</div>"
      ],
      "text/plain": [
       "      id  team_api_id  team_fifa_api_id   team_long_name team_short_name\n",
       "45  4218         8658              88.0  Birmingham City             BIR\n",
       "30  3462         8650               9.0        Liverpool             LIV"
      ]
     },
     "execution_count": 62,
     "metadata": {},
     "output_type": "execute_result"
    }
   ],
   "source": [
    "bested_teams = teams_data[teams_data['team_api_id'].isin(best_teams)].sort_values(by='team_long_name')\n",
    "bested_teams"
   ]
  },
  {
   "cell_type": "code",
   "execution_count": 63,
   "id": "cbbc9e5f",
   "metadata": {},
   "outputs": [],
   "source": [
    "highest_gap_england_2010_2011 = int(max_gap)"
   ]
  },
  {
   "cell_type": "code",
   "execution_count": 64,
   "id": "5f7aa84e",
   "metadata": {},
   "outputs": [],
   "source": [
    "assert(isinstance(highest_gap_england_2010_2011, int))"
   ]
  },
  {
   "cell_type": "markdown",
   "id": "acecc77f",
   "metadata": {},
   "source": [
    "### Warning! Do not change anything in the area below"
   ]
  },
  {
   "cell_type": "code",
   "execution_count": 65,
   "id": "94c3b9be",
   "metadata": {},
   "outputs": [],
   "source": [
    "with open('student_answers.txt', 'w') as file:\n",
    "    file.write(f\"{players_180_190}\\n\")\n",
    "    file.write(f\"{players_1980}\\n\")\n",
    "    file.write(f\"{highest_players}\\n\")\n",
    "    file.write(f\"{years_born_players}\\n\")\n",
    "    file.write(f\"{round(adriano_mean, 3)} {round(adriano_std, 3)}\\n\")\n",
    "    file.write(f\"{dow_with_min_players_born}\\n\")\n",
    "    file.write(f\"{league_most_matches}\\n\")\n",
    "    file.write(f\"{max_matches_player}\\n\")\n",
    "    file.write(f\"{';'.join(['%s,%s' % tup for tup in top_correlated_features])};\\n\")\n",
    "    file.write(f\"{neymar_similarities}\\n\")\n",
    "    file.write(f\"{borussia_bundesliga_2008_2009_matches}\\n\")\n",
    "    file.write(f\"{team_most_matches_bundesliga_2008_2009}\\n\")\n",
    "    file.write(f\"{arsenal_won_matches_2015_2016}\\n\")\n",
    "    file.write(f\"{team_highest_winrate_2015_2016}\\n\")\n",
    "    file.write(f\"{highest_gap_england_2010_2011}\\n\")"
   ]
  }
 ],
 "metadata": {
  "kernelspec": {
   "display_name": "Python 3",
   "language": "python",
   "name": "python3"
  },
  "language_info": {
   "codemirror_mode": {
    "name": "ipython",
    "version": 3
   },
   "file_extension": ".py",
   "mimetype": "text/x-python",
   "name": "python",
   "nbconvert_exporter": "python",
   "pygments_lexer": "ipython3",
   "version": "3.8.8"
  }
 },
 "nbformat": 4,
 "nbformat_minor": 5
}
